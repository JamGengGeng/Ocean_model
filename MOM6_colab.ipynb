{
  "nbformat": 4,
  "nbformat_minor": 0,
  "metadata": {
    "colab": {
      "provenance": [],
      "include_colab_link": true
    },
    "kernelspec": {
      "name": "python3",
      "display_name": "Python 3"
    },
    "language_info": {
      "name": "python"
    }
  },
  "cells": [
    {
      "cell_type": "markdown",
      "metadata": {
        "id": "view-in-github",
        "colab_type": "text"
      },
      "source": [
        "<a href=\"https://colab.research.google.com/github/JamGengGeng/Ocean_model/blob/main/MOM6_colab.ipynb\" target=\"_parent\"><img src=\"https://colab.research.google.com/assets/colab-badge.svg\" alt=\"Open In Colab\"/></a>"
      ]
    },
    {
      "cell_type": "code",
      "execution_count": null,
      "metadata": {
        "colab": {
          "base_uri": "https://localhost:8080/"
        },
        "id": "6tZQNQMBMlAu",
        "outputId": "ffe4098e-b1d8-4f9e-ad76-005aae6ae336"
      },
      "outputs": [
        {
          "output_type": "stream",
          "name": "stdout",
          "text": [
            "Cloning into 'MOM6-example'...\n",
            "remote: Enumerating objects: 66424, done.\u001b[K\n",
            "remote: Counting objects: 100% (11334/11334), done.\u001b[K\n",
            "remote: Compressing objects: 100% (492/492), done.\u001b[K\n",
            "remote: Total 66424 (delta 10986), reused 10958 (delta 10841), pack-reused 55090\u001b[K\n",
            "Receiving objects: 100% (66424/66424), 65.55 MiB | 27.12 MiB/s, done.\n",
            "Resolving deltas: 100% (57426/57426), done.\n",
            "Submodule 'src/FMS1' (https://github.com/NOAA-GFDL/FMS) registered for path 'src/FMS1'\n",
            "Submodule 'src/FMS2' (https://github.com/NOAA-GFDL/FMS) registered for path 'src/FMS2'\n",
            "Submodule 'src/MOM6' (https://github.com/NOAA-GFDL/MOM6.git) registered for path 'src/MOM6'\n",
            "Submodule 'src/SIS2' (https://github.com/NOAA-GFDL/SIS2.git) registered for path 'src/SIS2'\n",
            "Submodule 'src/atmos_null' (https://github.com/NOAA-GFDL/atmos_null.git) registered for path 'src/atmos_null'\n",
            "Submodule 'src/coupler' (https://github.com/NOAA-GFDL/coupler.git) registered for path 'src/coupler'\n",
            "Submodule 'src/ice_param' (https://github.com/NOAA-GFDL/ice_param.git) registered for path 'src/ice_param'\n",
            "Submodule 'src/icebergs' (https://github.com/NOAA-GFDL/icebergs.git) registered for path 'src/icebergs'\n",
            "Submodule 'src/land_null' (https://github.com/NOAA-GFDL/land_null.git) registered for path 'src/land_null'\n",
            "Submodule 'src/mkmf' (https://github.com/mom-ocean/mkmf.git) registered for path 'src/mkmf'\n",
            "Submodule 'tools/analysis/mpl-cmocean' (https://github.com/matplotlib/cmocean.git) registered for path 'tools/analysis/mpl-cmocean'\n",
            "Submodule 'tools/matlab/gtools' (https://github.com/Adcroft/gtools.git) registered for path 'tools/matlab/gtools'\n",
            "Submodule 'tools/python/MIDAS' (https://github.com/mjharriso/MIDAS.git) registered for path 'tools/python/MIDAS'\n",
            "Cloning into '/content/MOM6-example/build/ocean_only/double_gyre/MOM6-example/src/FMS1'...\n",
            "remote: Enumerating objects: 42396, done.        \n",
            "remote: Counting objects: 100% (2494/2494), done.        \n",
            "remote: Compressing objects: 100% (964/964), done.        \n",
            "remote: Total 42396 (delta 1789), reused 1951 (delta 1495), pack-reused 39902        \n",
            "Receiving objects: 100% (42396/42396), 64.97 MiB | 20.64 MiB/s, done.\n",
            "Resolving deltas: 100% (32473/32473), done.\n",
            "Cloning into '/content/MOM6-example/build/ocean_only/double_gyre/MOM6-example/src/FMS2'...\n",
            "remote: Enumerating objects: 42396, done.        \n",
            "remote: Counting objects: 100% (2494/2494), done.        \n",
            "remote: Compressing objects: 100% (964/964), done.        \n",
            "remote: Total 42396 (delta 1789), reused 1950 (delta 1495), pack-reused 39902        \n",
            "Receiving objects: 100% (42396/42396), 64.97 MiB | 21.04 MiB/s, done.\n",
            "Resolving deltas: 100% (32473/32473), done.\n",
            "Cloning into '/content/MOM6-example/build/ocean_only/double_gyre/MOM6-example/src/MOM6'...\n",
            "remote: Enumerating objects: 90931, done.        \n",
            "remote: Counting objects: 100% (1470/1470), done.        \n",
            "remote: Compressing objects: 100% (561/561), done.        \n",
            "remote: Total 90931 (delta 1003), reused 1180 (delta 909), pack-reused 89461        \n",
            "Receiving objects: 100% (90931/90931), 73.83 MiB | 22.75 MiB/s, done.\n",
            "Resolving deltas: 100% (69854/69854), done.\n",
            "Cloning into '/content/MOM6-example/build/ocean_only/double_gyre/MOM6-example/src/SIS2'...\n",
            "remote: Enumerating objects: 6224, done.        \n",
            "remote: Counting objects: 100% (769/769), done.        \n",
            "remote: Compressing objects: 100% (220/220), done.        \n",
            "remote: Total 6224 (delta 547), reused 723 (delta 537), pack-reused 5455        \n",
            "Receiving objects: 100% (6224/6224), 5.05 MiB | 19.97 MiB/s, done.\n",
            "Resolving deltas: 100% (4675/4675), done.\n",
            "Cloning into '/content/MOM6-example/build/ocean_only/double_gyre/MOM6-example/src/atmos_null'...\n",
            "remote: Enumerating objects: 259, done.        \n",
            "remote: Counting objects: 100% (8/8), done.        \n",
            "remote: Compressing objects: 100% (6/6), done.        \n",
            "remote: Total 259 (delta 2), reused 6 (delta 2), pack-reused 251        \n",
            "Receiving objects: 100% (259/259), 60.88 KiB | 2.90 MiB/s, done.\n",
            "Resolving deltas: 100% (103/103), done.\n",
            "Cloning into '/content/MOM6-example/build/ocean_only/double_gyre/MOM6-example/src/coupler'...\n",
            "remote: Enumerating objects: 3132, done.        \n",
            "remote: Counting objects: 100% (1133/1133), done.        \n",
            "remote: Compressing objects: 100% (148/148), done.        \n",
            "remote: Total 3132 (delta 1041), reused 985 (delta 984), pack-reused 1999        \n",
            "Receiving objects: 100% (3132/3132), 2.21 MiB | 9.39 MiB/s, done.\n",
            "Resolving deltas: 100% (2403/2403), done.\n",
            "Cloning into '/content/MOM6-example/build/ocean_only/double_gyre/MOM6-example/src/ice_param'...\n",
            "remote: Enumerating objects: 298, done.        \n",
            "remote: Counting objects: 100% (29/29), done.        \n",
            "remote: Compressing objects: 100% (25/25), done.        \n",
            "remote: Total 298 (delta 14), reused 11 (delta 4), pack-reused 269        \n",
            "Receiving objects: 100% (298/298), 60.71 KiB | 3.79 MiB/s, done.\n",
            "Resolving deltas: 100% (208/208), done.\n",
            "Cloning into '/content/MOM6-example/build/ocean_only/double_gyre/MOM6-example/src/icebergs'...\n",
            "remote: Enumerating objects: 2809, done.        \n",
            "remote: Counting objects: 100% (773/773), done.        \n",
            "remote: Compressing objects: 100% (199/199), done.        \n",
            "remote: Total 2809 (delta 594), reused 734 (delta 573), pack-reused 2036        \n",
            "Receiving objects: 100% (2809/2809), 2.54 MiB | 17.96 MiB/s, done.\n",
            "Resolving deltas: 100% (1687/1687), done.\n",
            "Cloning into '/content/MOM6-example/build/ocean_only/double_gyre/MOM6-example/src/land_null'...\n",
            "remote: Enumerating objects: 178, done.        \n",
            "remote: Counting objects: 100% (8/8), done.        \n",
            "remote: Compressing objects: 100% (6/6), done.        \n",
            "remote: Total 178 (delta 2), reused 6 (delta 2), pack-reused 170        \n",
            "Receiving objects: 100% (178/178), 51.92 KiB | 3.46 MiB/s, done.\n",
            "Resolving deltas: 100% (44/44), done.\n",
            "Cloning into '/content/MOM6-example/build/ocean_only/double_gyre/MOM6-example/src/mkmf'...\n",
            "remote: Enumerating objects: 501, done.        \n",
            "remote: Counting objects: 100% (171/171), done.        \n",
            "remote: Compressing objects: 100% (29/29), done.        \n",
            "remote: Total 501 (delta 158), reused 143 (delta 142), pack-reused 330        \n",
            "Receiving objects: 100% (501/501), 185.41 KiB | 4.88 MiB/s, done.\n",
            "Resolving deltas: 100% (310/310), done.\n",
            "Cloning into '/content/MOM6-example/build/ocean_only/double_gyre/MOM6-example/tools/analysis/mpl-cmocean'...\n",
            "remote: Enumerating objects: 1133, done.        \n",
            "remote: Counting objects: 100% (120/120), done.        \n",
            "remote: Compressing objects: 100% (74/74), done.        \n",
            "remote: Total 1133 (delta 50), reused 103 (delta 41), pack-reused 1013        \n",
            "Receiving objects: 100% (1133/1133), 19.22 MiB | 34.71 MiB/s, done.\n",
            "Resolving deltas: 100% (560/560), done.\n",
            "Cloning into '/content/MOM6-example/build/ocean_only/double_gyre/MOM6-example/tools/matlab/gtools'...\n",
            "remote: Enumerating objects: 42, done.        \n",
            "remote: Total 42 (delta 0), reused 0 (delta 0), pack-reused 42        \n",
            "Receiving objects: 100% (42/42), 34.72 KiB | 2.04 MiB/s, done.\n",
            "Resolving deltas: 100% (11/11), done.\n",
            "Cloning into '/content/MOM6-example/build/ocean_only/double_gyre/MOM6-example/tools/python/MIDAS'...\n",
            "remote: Enumerating objects: 1226, done.        \n",
            "remote: Total 1226 (delta 0), reused 0 (delta 0), pack-reused 1226        \n",
            "Receiving objects: 100% (1226/1226), 1.80 MiB | 11.74 MiB/s, done.\n",
            "Resolving deltas: 100% (760/760), done.\n",
            "Submodule path 'src/FMS1': checked out 'f61416fef691d9ba39a40df1ce72aa574f54c390'\n",
            "Submodule path 'src/FMS2': checked out '0721d5969734e6a5240a75120d0b25b1269541b7'\n",
            "Submodule path 'src/MOM6': checked out '095a3b5fe7a60a2eb796232d0c97ea345ef1b87e'\n",
            "Submodule 'pkg/CVMix-src' (https://github.com/mom-ocean/CVMix-src.git) registered for path 'src/MOM6/pkg/CVMix-src'\n",
            "Submodule 'pkg/GSW-Fortran' (https://github.com/mom-ocean/GSW-Fortran.git) registered for path 'src/MOM6/pkg/GSW-Fortran'\n",
            "Cloning into '/content/MOM6-example/build/ocean_only/double_gyre/MOM6-example/src/MOM6/pkg/CVMix-src'...\n",
            "remote: Enumerating objects: 3334, done.        \n",
            "remote: Counting objects: 100% (10/10), done.        \n",
            "remote: Compressing objects: 100% (8/8), done.        \n",
            "remote: Total 3334 (delta 2), reused 9 (delta 2), pack-reused 3324        \n",
            "Receiving objects: 100% (3334/3334), 5.15 MiB | 23.21 MiB/s, done.\n",
            "Resolving deltas: 100% (2399/2399), done.\n",
            "Cloning into '/content/MOM6-example/build/ocean_only/double_gyre/MOM6-example/src/MOM6/pkg/GSW-Fortran'...\n",
            "remote: Enumerating objects: 1055, done.        \n",
            "remote: Counting objects: 100% (79/79), done.        \n",
            "remote: Compressing objects: 100% (35/35), done.        \n",
            "remote: Total 1055 (delta 44), reused 75 (delta 44), pack-reused 976        \n",
            "Receiving objects: 100% (1055/1055), 10.86 MiB | 14.90 MiB/s, done.\n",
            "Resolving deltas: 100% (725/725), done.\n",
            "Submodule path 'src/MOM6/pkg/CVMix-src': checked out '9423197f894112edfcb1502245f7d7b873d551f9'\n",
            "Submodule path 'src/MOM6/pkg/GSW-Fortran': checked out '29e64d652786e1d076a05128c920f394202bfe10'\n",
            "Submodule path 'src/SIS2': checked out '0006cd2db5ae1b8cd936d5def129b67c67c565a7'\n",
            "Submodule path 'src/atmos_null': checked out 'aeac506b910c06ce949fea408c2968c0a928a62e'\n",
            "Submodule path 'src/coupler': checked out '14578f09a25c8e6101faba18342630af267cdba9'\n",
            "Submodule path 'src/ice_param': checked out 'ddedca7d724fad9ad4fc6ec68bd4b22733551ed7'\n",
            "Submodule path 'src/icebergs': checked out 'fd6478fecd8891aebcba904fe4b34a415fe30e73'\n",
            "Submodule path 'src/land_null': checked out '49b089ea8d5b963ede276660cb63c6c3ec2516ab'\n",
            "Submodule path 'src/mkmf': checked out '14fe9570efba67f232bbd96ed4f8360eea18c54d'\n",
            "Submodule path 'tools/analysis/mpl-cmocean': checked out '8196cfd25abc0c8e074333c4abc17a20a05b7a8a'\n",
            "Submodule path 'tools/matlab/gtools': checked out '370b1de16616fd19fc30a249a3f96172c2c8506b'\n",
            "Submodule path 'tools/python/MIDAS': checked out '446ea813e2d64a4a10f8209deea905bed64bc1b0'\n"
          ]
        }
      ],
      "source": [
        "!git clone --recursive https://github.com/NOAA-GFDL/MOM6-examples.git MOM6-example"
      ]
    },
    {
      "cell_type": "code",
      "source": [
        "%cd /content/MOM6-example\n",
        "!mkdir build"
      ],
      "metadata": {
        "colab": {
          "base_uri": "https://localhost:8080/"
        },
        "id": "ISFEuxqzNZLI",
        "outputId": "d5bfecba-083a-4228-9de6-5ae5d994130f"
      },
      "execution_count": null,
      "outputs": [
        {
          "output_type": "stream",
          "name": "stdout",
          "text": [
            "/content/MOM6-example\n",
            "mkdir: cannot create directory ‘build’: File exists\n"
          ]
        }
      ]
    },
    {
      "cell_type": "code",
      "source": [
        "!echo > build/env"
      ],
      "metadata": {
        "id": "gtoFekI6OFmH"
      },
      "execution_count": null,
      "outputs": []
    },
    {
      "cell_type": "code",
      "source": [
        "!mkdir -p build/fms/\n",
        "%cd build/fms/\n",
        "!rm -f path_names\n",
        "!../../src/mkmf/bin/list_paths -l ../../src/FMS\n",
        "!../../src/mkmf/bin/mkmf -t ../../src/mkmf/templates/linux-ubuntu-jammy-gnu.mk -p libfms.a -c \"-Duse_libMPI -Duse_netCDF -DSPMD\" path_names"
      ],
      "metadata": {
        "colab": {
          "base_uri": "https://localhost:8080/"
        },
        "id": "2y15HQJcPzkI",
        "outputId": "7372f141-c7c2-41e3-9d91-7f07b2b14dec"
      },
      "execution_count": null,
      "outputs": [
        {
          "output_type": "stream",
          "name": "stdout",
          "text": [
            "/content/MOM6-example/build/fms\n",
            "A list of the files you checked out is in the file path_names.\n",
            "........................................................................................ Makefile is ready.\n"
          ]
        }
      ]
    },
    {
      "cell_type": "code",
      "source": [
        "!sudo apt-get install libnetcdff-dev"
      ],
      "metadata": {
        "colab": {
          "base_uri": "https://localhost:8080/"
        },
        "id": "XQgDHYRFSBrq",
        "outputId": "671229d2-1470-4eb3-c0d5-9f379b012bf6"
      },
      "execution_count": null,
      "outputs": [
        {
          "output_type": "stream",
          "name": "stdout",
          "text": [
            "Reading package lists... Done\n",
            "Building dependency tree... Done\n",
            "Reading state information... Done\n",
            "libnetcdff-dev is already the newest version (4.5.4+ds-1).\n",
            "0 upgraded, 0 newly installed, 0 to remove and 16 not upgraded.\n"
          ]
        }
      ]
    },
    {
      "cell_type": "code",
      "source": [
        "%cd build/fms/\n",
        "!source ../env && make NETCDF=3 REPRO=1 libfms.a -j"
      ],
      "metadata": {
        "colab": {
          "base_uri": "https://localhost:8080/"
        },
        "id": "w2_1ydU-QSl5",
        "outputId": "e712b442-cba5-492c-fbba-3427405be650"
      },
      "execution_count": null,
      "outputs": [
        {
          "output_type": "stream",
          "name": "stdout",
          "text": [
            "[Errno 2] No such file or directory: 'build/fms/'\n",
            "/content/MOM6-example/build/fms\n",
            "make: 'libfms.a' is up to date.\n"
          ]
        }
      ]
    },
    {
      "cell_type": "code",
      "source": [
        "!mkdir -p /content/MOM6-example/build/ocean_only/\n",
        "%cd /content/MOM6-example/build/ocean_only/\n",
        "!rm -f path_names\n",
        "!../../src/mkmf/bin/list_paths -l ./ ../../src/MOM6/{config_src/infra/FMS1,config_src/memory/dynamic_symmetric,config_src/drivers/solo_driver,config_src/external,src/{*,*/*}}/\n",
        "!../../src/mkmf/bin/mkmf -t ../../src/mkmf/templates/linux-ubuntu-jammy-gnu.mk -o '-I../fms' -p 'MOM6 -L../fms -lfms' -c \"-Duse_libMPI -Duse_netCDF -DSPMD\" path_names"
      ],
      "metadata": {
        "colab": {
          "base_uri": "https://localhost:8080/"
        },
        "id": "0uhqj4MbQ0E0",
        "outputId": "271df08a-1edf-4601-9e9e-fa10a4a539c7"
      },
      "execution_count": null,
      "outputs": [
        {
          "output_type": "stream",
          "name": "stdout",
          "text": [
            "/content/MOM6-example/build/ocean_only\n",
            "A list of the files you checked out is in the file path_names.\n",
            "..\u0007\n",
            "AMBIGUOUS: Module monin_obukhov_inter is associated with double_gyre/MOM6-example/src/FMS2/monin_obukhov/monin_obukhov_inter.F90 as well as double_gyre/MOM6-example/src/FMS/monin_obukhov/monin_obukhov_kernel.F90.\n"
          ]
        }
      ]
    },
    {
      "cell_type": "code",
      "source": [
        "!source ../env && make NETCDF=3 REPRO=1 MOM6 -j"
      ],
      "metadata": {
        "colab": {
          "base_uri": "https://localhost:8080/"
        },
        "id": "eEA5ga4NQ_Lf",
        "outputId": "035ba764-25d3-4019-b77e-b69331e065ac"
      },
      "execution_count": null,
      "outputs": [
        {
          "output_type": "stream",
          "name": "stdout",
          "text": [
            "make: 'MOM6' is up to date.\n"
          ]
        }
      ]
    },
    {
      "cell_type": "code",
      "source": [
        "%cd /content/MOM6-example/ocean_only/double_gyre\n",
        "\n",
        "!mkdir -p RESTART\n",
        "!OMPI_ALLOW_RUN_AS_ROOT=1 OMPI_ALLOW_RUN_AS_ROOT_CONFIRM=1 mpirun -np 1 ../../build/ocean_only/MOM6"
      ],
      "metadata": {
        "colab": {
          "base_uri": "https://localhost:8080/"
        },
        "id": "60avgIKNRGPE",
        "outputId": "3935ed50-31de-4e71-fe09-487f3fa2ef0c"
      },
      "execution_count": null,
      "outputs": [
        {
          "output_type": "stream",
          "name": "stdout",
          "text": [
            "/content/MOM6-example/ocean_only/double_gyre\n",
            "NOTE: MPP_DOMAINS_SET_STACK_SIZE: stack size set to    32768.\n",
            "&MPP_IO_NML\n",
            " HEADER_BUFFER_VAL=16384      ,\n",
            " GLOBAL_FIELD_ON_ROOT_PE=T,\n",
            " IO_CLOCKS_ON=F,\n",
            " SHUFFLE=0          ,\n",
            " DEFLATE_LEVEL=-1         ,\n",
            " CF_COMPLIANCE=F,\n",
            " /\n",
            "NOTE: MPP_IO_SET_STACK_SIZE: stack size set to     131072.\n",
            "NOTE: ======== Model being driven by MOM_driver ========\n",
            "NOTE: callTree: o Program MOM_main, MOM_driver.F90\n",
            "NOTE: open_param_file: MOM_input has been opened successfully.\n",
            "NOTE: open_param_file: MOM_override has been opened successfully.\n",
            " MOM_in domain decomposition\n",
            "whalo =    4, ehalo =    4, shalo =    4, nhalo =    4\n",
            "  X-AXIS =   44\n",
            "  Y-AXIS =   40\n",
            " MOM_inc domain decomposition\n",
            "whalo =    2, ehalo =    2, shalo =    2, nhalo =    2\n",
            "  X-AXIS =   22\n",
            "  Y-AXIS =   20\n",
            "NOTE: diag_manager_mod::diag_manager_init: prepend_date only supported when diag_manager_init is called with time_init present.\n",
            " MOM_in domain decomposition\n",
            "whalo =    4, ehalo =    4, shalo =    4, nhalo =    4\n",
            "  X-AXIS =   44\n",
            "  Y-AXIS =   40\n",
            " MOM_in domain decomposition\n",
            "whalo =    2, ehalo =    2, shalo =    2, nhalo =    2\n",
            "  X-AXIS =   22\n",
            "  Y-AXIS =   20\n",
            " MOM_in domain decomposition\n",
            "whalo =    4, ehalo =    4, shalo =    4, nhalo =    4\n",
            "  X-AXIS =   44\n",
            "  Y-AXIS =   40\n",
            " MOM_in domain decomposition\n",
            "whalo =    2, ehalo =    2, shalo =    2, nhalo =    2\n",
            "  X-AXIS =   22\n",
            "  Y-AXIS =   20\n",
            " MOM_in domain decomposition\n",
            "whalo =    4, ehalo =    4, shalo =    4, nhalo =    4\n",
            "  X-AXIS =   44\n",
            "  Y-AXIS =   40\n",
            " MOM_in domain decomposition\n",
            "whalo =    2, ehalo =    2, shalo =    2, nhalo =    2\n",
            "  X-AXIS =   22\n",
            "  Y-AXIS =   20\n",
            " MOM_in domain decomposition\n",
            "whalo =    4, ehalo =    4, shalo =    4, nhalo =    4\n",
            "  X-AXIS =   44\n",
            "  Y-AXIS =   40\n",
            " MOM_in domain decomposition\n",
            "whalo =    2, ehalo =    2, shalo =    2, nhalo =    2\n",
            "  X-AXIS =   22\n",
            "  Y-AXIS =   20\n",
            "NOTE: depth_list_setup: ./Depth_list.nc does not exist.  Creating a new file.\n",
            "MOM Day       0.000      0: En 1.423707E-13, MaxCFL  0.00000, Mass 5.288178268008E+18\n",
            "    Total Energy: 4126F9E3C5B6FEAF  7.5288188616176497E+05\n",
            "    Total Mass:   5.2881782680077681E+18, Change:   0.0000000000000000E+00 Error:  0.00000E+00 ( 0.0E+00)\n",
            "MOM Day       1.000     72: En 4.580432E-06, MaxCFL  0.00023, Mass 5.288178268008E+18\n",
            "    Total Energy: 42B607A80A83A092  2.4222139843488570E+13\n",
            "    Total Mass:   5.2881782680077681E+18, Change:  -5.9874384717173371E+01 Error: -5.98744E+01 (-1.1E-17)\n",
            "MOM Day       2.000    144: En 8.958206E-06, MaxCFL  0.00040, Mass 5.288178268008E+18\n",
            "    Total Energy: 42C58AE53346CEF9  4.7372590026141945E+13\n",
            "    Total Mass:   5.2881782680077681E+18, Change:   3.3323543490744868E+01 Error:  3.33235E+01 ( 6.3E-18)\n",
            "MOM Day       3.000    216: En 1.166708E-05, MaxCFL  0.00045, Mass 5.288178268008E+18\n",
            "    Total Energy: 42CC0E8B5CDF7142  6.1697586478818516E+13\n",
            "    Total Mass:   5.2881782680077681E+18, Change:  -3.7170103257304589E+01 Error: -3.71701E+01 (-7.0E-18)\n",
            "MOM Day       4.000    288: En 1.542296E-05, MaxCFL  0.00044, Mass 5.288178268008E+18\n",
            "    Total Energy: 42D28B60D5889F6F  8.1559337443965734E+13\n",
            "    Total Mass:   5.2881782680077681E+18, Change:   6.0602261039877590E+01 Error:  6.06023E+01 ( 1.1E-17)\n",
            "MOM Day       5.000    360: En 1.826022E-05, MaxCFL  0.00053, Mass 5.288178268008E+18\n",
            "    Total Energy: 42D5F4B97D5C8696  9.6563312816666344E+13\n",
            "    Total Mass:   5.2881782680077681E+18, Change:   1.7474460705298554E+01 Error:  1.74745E+01 ( 3.3E-18)\n",
            "MOM Day       6.000    432: En 2.397431E-05, MaxCFL  0.00062, Mass 5.288178268008E+18\n",
            "    Total Energy: 42DCD397A5E0A8A5  1.2678043163101058E+14\n",
            "    Total Mass:   5.2881782680077681E+18, Change:  -4.1025102651569910E+01 Error: -4.10251E+01 (-7.8E-18)\n",
            "MOM Day       7.000    504: En 2.927962E-05, MaxCFL  0.00073, Mass 5.288178268008E+18\n",
            "    Total Energy: 42E19A5109E5A5A0  1.5483585791108500E+14\n",
            "    Total Mass:   5.2881782680077681E+18, Change:   2.1696700853226503E-02 Error:  2.16967E-02 ( 4.1E-21)\n",
            "MOM Day       8.000    576: En 3.486441E-05, MaxCFL  0.00081, Mass 5.288178268008E+18\n",
            "    Total Energy: 42E4F5D995BABADF  1.8436920009263097E+14\n",
            "    Total Mass:   5.2881782680077681E+18, Change:  -5.4349988706310057E+00 Error: -5.43500E+00 (-1.0E-18)\n",
            "MOM Day       9.000    648: En 4.195565E-05, MaxCFL  0.00090, Mass 5.288178268008E+18\n",
            "    Total Energy: 42E9393C9CABB5FA  2.2186896584644781E+14\n",
            "    Total Mass:   5.2881782680077681E+18, Change:   5.2383375130837635E+00 Error:  5.23834E+00 ( 9.9E-19)\n",
            "MOM Day      10.000    720: En 4.604729E-05, MaxCFL  0.00100, Mass 5.288178268008E+18\n",
            "    Total Energy: 42EBAEF71B99DB1A  2.4350627232533681E+14\n",
            "    Total Mass:   5.2881782680077681E+18, Change:  -3.6026740618649825E+01 Error: -3.60267E+01 (-6.8E-18)\n",
            " MOM_in domain decomposition\n",
            "whalo =    4, ehalo =    4, shalo =    4, nhalo =    4\n",
            "  X-AXIS =   44\n",
            "  Y-AXIS =   40\n",
            " MOM_in domain decomposition\n",
            "whalo =    2, ehalo =    2, shalo =    2, nhalo =    2\n",
            "  X-AXIS =   22\n",
            "  Y-AXIS =   20\n",
            "                              20230905 044102.519: Memuse(MB) at Memory HiWaterMark=  5.099E+01  5.099E+01  0.000E+00  5.099E+01\n",
            " MPP_DOMAINS_STACK high water mark=           0\n",
            "\n",
            "Tabulating mpp_clock statistics across      1 PEs...\n",
            "\n",
            "                                          tmin          tmax          tavg          tstd  tfrac grain pemin pemax\n",
            "Total runtime                        14.117073     14.117073     14.117073      0.000000  1.000     0     0     0\n",
            "Initialization                        0.112667      0.112667      0.112667      0.000000  0.008     0     0     0\n",
            "Main loop                            13.995635     13.995635     13.995635      0.000000  0.991     0     0     0\n",
            "Termination                           0.002111      0.002111      0.002111      0.000000  0.000     0     0     0\n",
            " MPP_STACK high water mark=           0\n"
          ]
        }
      ]
    },
    {
      "cell_type": "code",
      "source": [
        "!ls -lh /content/\n",
        "!du -sh /content/MOM6-example"
      ],
      "metadata": {
        "colab": {
          "base_uri": "https://localhost:8080/"
        },
        "id": "AwikSCzBVqlj",
        "outputId": "4594317a-3eb2-4a30-c58d-b34c189b9eee"
      },
      "execution_count": null,
      "outputs": [
        {
          "output_type": "stream",
          "name": "stdout",
          "text": [
            "total 12K\n",
            "drwxr-xr-x  3 root root 4.0K Sep  5 02:57 build\n",
            "drwxr-xr-x 11 root root 4.0K Sep  5 02:57 MOM6-example\n",
            "drwxr-xr-x  1 root root 4.0K Aug 31 13:25 sample_data\n",
            "532M\t/content/MOM6-example\n"
          ]
        }
      ]
    }
  ]
}